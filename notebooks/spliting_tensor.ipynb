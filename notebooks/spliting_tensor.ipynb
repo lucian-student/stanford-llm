{
 "cells": [
  {
   "cell_type": "code",
   "execution_count": 33,
   "id": "551e030b",
   "metadata": {},
   "outputs": [],
   "source": [
    "import torch"
   ]
  },
  {
   "cell_type": "code",
   "execution_count": 34,
   "id": "9da19a84",
   "metadata": {},
   "outputs": [],
   "source": [
    "# batch,matrices,heads,seq,d_k\n",
    "x = torch.randn(4,3,5,7,9)"
   ]
  },
  {
   "cell_type": "code",
   "execution_count": 35,
   "id": "062abbea",
   "metadata": {},
   "outputs": [],
   "source": [
    "matrices = torch.split(x,1,dim=-4)"
   ]
  },
  {
   "cell_type": "code",
   "execution_count": 36,
   "id": "bdba6640",
   "metadata": {},
   "outputs": [
    {
     "name": "stdout",
     "output_type": "stream",
     "text": [
      "torch.Size([4, 5, 7, 9])\n",
      "torch.Size([4, 5, 7, 9])\n",
      "torch.Size([4, 5, 7, 9])\n"
     ]
    }
   ],
   "source": [
    "for m in matrices:\n",
    "    print(m.squeeze(-4).shape)"
   ]
  }
 ],
 "metadata": {
  "kernelspec": {
   "display_name": ".venv",
   "language": "python",
   "name": "python3"
  },
  "language_info": {
   "codemirror_mode": {
    "name": "ipython",
    "version": 3
   },
   "file_extension": ".py",
   "mimetype": "text/x-python",
   "name": "python",
   "nbconvert_exporter": "python",
   "pygments_lexer": "ipython3",
   "version": "3.13.3"
  }
 },
 "nbformat": 4,
 "nbformat_minor": 5
}
