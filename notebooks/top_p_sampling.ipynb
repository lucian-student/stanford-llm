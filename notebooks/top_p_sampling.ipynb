{
 "cells": [
  {
   "cell_type": "code",
   "execution_count": 221,
   "id": "fb7b49e3",
   "metadata": {},
   "outputs": [],
   "source": [
    "import torch"
   ]
  },
  {
   "cell_type": "code",
   "execution_count": 222,
   "id": "fe9fab08",
   "metadata": {},
   "outputs": [],
   "source": [
    "X = torch.randn(2,3,4)\n",
    "X = torch.abs(X)"
   ]
  },
  {
   "cell_type": "markdown",
   "id": "607911d9",
   "metadata": {},
   "source": [
    "snažím se teď naimplementovat exclusive cumsum"
   ]
  },
  {
   "cell_type": "code",
   "execution_count": 223,
   "id": "5ecbb3f8",
   "metadata": {},
   "outputs": [
    {
     "data": {
      "text/plain": [
       "tensor([[[1.2654, 1.8297, 1.2963, 1.1808],\n",
       "         [0.6911, 0.4490, 1.0687, 1.3556],\n",
       "         [0.7595, 0.3680, 1.2219, 1.1132]],\n",
       "\n",
       "        [[1.2596, 0.0498, 0.1093, 0.2504],\n",
       "         [1.0404, 0.6790, 1.6915, 0.4595],\n",
       "         [0.1868, 0.0625, 0.4495, 1.9826]]])"
      ]
     },
     "execution_count": 223,
     "metadata": {},
     "output_type": "execute_result"
    }
   ],
   "source": [
    "dim = -1\n",
    "rolled = torch.roll(X,1,dims=dim)\n",
    "rolled"
   ]
  },
  {
   "cell_type": "markdown",
   "id": "c461228a",
   "metadata": {},
   "source": [
    "Vynulovat první index, podel dané dimenze\n",
    "1. trik je ve využití slice(None), jelikož v tomhle případě zanmená :"
   ]
  },
  {
   "cell_type": "code",
   "execution_count": 224,
   "id": "4ea93408",
   "metadata": {},
   "outputs": [],
   "source": [
    "select = [slice(None)] * rolled.dim()\n",
    "select[dim] = 0"
   ]
  },
  {
   "cell_type": "code",
   "execution_count": 225,
   "id": "112dc140",
   "metadata": {},
   "outputs": [
    {
     "data": {
      "text/plain": [
       "tensor([[[0.0000, 1.8297, 1.2963, 1.1808],\n",
       "         [0.0000, 0.4490, 1.0687, 1.3556],\n",
       "         [0.0000, 0.3680, 1.2219, 1.1132]],\n",
       "\n",
       "        [[0.0000, 0.0498, 0.1093, 0.2504],\n",
       "         [0.0000, 0.6790, 1.6915, 0.4595],\n",
       "         [0.0000, 0.0625, 0.4495, 1.9826]]])"
      ]
     },
     "execution_count": 225,
     "metadata": {},
     "output_type": "execute_result"
    }
   ],
   "source": [
    "rolled[select] = 0\n",
    "rolled"
   ]
  },
  {
   "cell_type": "code",
   "execution_count": 226,
   "id": "d1278066",
   "metadata": {},
   "outputs": [
    {
     "data": {
      "text/plain": [
       "tensor([[[0.0000, 1.8297, 3.1261, 4.3069],\n",
       "         [0.0000, 0.4490, 1.5177, 2.8733],\n",
       "         [0.0000, 0.3680, 1.5899, 2.7031]],\n",
       "\n",
       "        [[0.0000, 0.0498, 0.1591, 0.4095],\n",
       "         [0.0000, 0.6790, 2.3705, 2.8300],\n",
       "         [0.0000, 0.0625, 0.5120, 2.4946]]])"
      ]
     },
     "execution_count": 226,
     "metadata": {},
     "output_type": "execute_result"
    }
   ],
   "source": [
    "torch.cumsum(rolled,dim=dim)"
   ]
  },
  {
   "cell_type": "code",
   "execution_count": 227,
   "id": "3c88f3c5",
   "metadata": {},
   "outputs": [],
   "source": [
    "def exclusive_cumsum(x: torch.Tensor, dim: int):\n",
    "    rolled = torch.roll(x, 1, dims=dim)\n",
    "    select = [slice(None)] * x.dim()\n",
    "    select[dim] = 0\n",
    "    rolled[select] = 0\n",
    "    return torch.cumsum(rolled, dim=dim)"
   ]
  },
  {
   "cell_type": "code",
   "execution_count": 228,
   "id": "da8079b2",
   "metadata": {},
   "outputs": [
    {
     "data": {
      "text/plain": [
       "tensor([[[1.8297, 1.2963, 1.1808, 1.2654],\n",
       "         [0.4490, 1.0687, 1.3556, 0.6911],\n",
       "         [0.3680, 1.2219, 1.1132, 0.7595]],\n",
       "\n",
       "        [[0.0498, 0.1093, 0.2504, 1.2596],\n",
       "         [0.6790, 1.6915, 0.4595, 1.0404],\n",
       "         [0.0625, 0.4495, 1.9826, 0.1868]]])"
      ]
     },
     "execution_count": 228,
     "metadata": {},
     "output_type": "execute_result"
    }
   ],
   "source": [
    "X"
   ]
  },
  {
   "cell_type": "code",
   "execution_count": 229,
   "id": "ada2ff2a",
   "metadata": {},
   "outputs": [
    {
     "data": {
      "text/plain": [
       "(tensor([[[1.8297, 1.2963, 1.2654, 1.1808],\n",
       "          [1.3556, 1.0687, 0.6911, 0.4490],\n",
       "          [1.2219, 1.1132, 0.7595, 0.3680]],\n",
       " \n",
       "         [[1.2596, 0.2504, 0.1093, 0.0498],\n",
       "          [1.6915, 1.0404, 0.6790, 0.4595],\n",
       "          [1.9826, 0.4495, 0.1868, 0.0625]]]),\n",
       " tensor([[[0, 1, 3, 2],\n",
       "          [2, 1, 3, 0],\n",
       "          [1, 2, 3, 0]],\n",
       " \n",
       "         [[3, 2, 1, 0],\n",
       "          [1, 3, 0, 2],\n",
       "          [2, 1, 3, 0]]]))"
      ]
     },
     "execution_count": 229,
     "metadata": {},
     "output_type": "execute_result"
    }
   ],
   "source": [
    "sorted, indices = torch.sort(X, dim=dim, descending=True)\n",
    "sorted,indices"
   ]
  },
  {
   "cell_type": "code",
   "execution_count": 230,
   "id": "824584b6",
   "metadata": {},
   "outputs": [
    {
     "data": {
      "text/plain": [
       "tensor([[[0.0000, 1.8297, 3.1261, 4.3915],\n",
       "         [0.0000, 1.3556, 2.4243, 3.1154],\n",
       "         [0.0000, 1.2219, 2.3351, 3.0946]],\n",
       "\n",
       "        [[0.0000, 1.2596, 1.5100, 1.6193],\n",
       "         [0.0000, 1.6915, 2.7318, 3.4109],\n",
       "         [0.0000, 1.9826, 2.4321, 2.6189]]])"
      ]
     },
     "execution_count": 230,
     "metadata": {},
     "output_type": "execute_result"
    }
   ],
   "source": [
    "cdf = exclusive_cumsum(sorted,dim)\n",
    "cdf"
   ]
  },
  {
   "cell_type": "code",
   "execution_count": 231,
   "id": "0629dc35",
   "metadata": {},
   "outputs": [
    {
     "data": {
      "text/plain": [
       "tensor([[[ True, False, False, False],\n",
       "         [ True,  True, False, False],\n",
       "         [ True,  True, False, False]],\n",
       "\n",
       "        [[ True,  True, False, False],\n",
       "         [ True, False, False, False],\n",
       "         [ True, False, False, False]]])"
      ]
     },
     "execution_count": 231,
     "metadata": {},
     "output_type": "execute_result"
    }
   ],
   "source": [
    "mask = cdf <= 1.5\n",
    "mask"
   ]
  },
  {
   "cell_type": "markdown",
   "id": "f1275577",
   "metadata": {},
   "source": [
    "Verze s scatterem\n",
    "\n",
    "Gather vytvoří nový tensor z původního, kde index tensor uručuje index v dané dimenzi.\n",
    "* out[i][j][k] = src[i][j][index[i][j][k]]\n",
    "\n",
    "Scatter by měla být udajně opačná operace vůči gather\n",
    "* out[i][j][index[i][j][k]] = src[i][j][k]\n",
    "\n",
    "mask_full"
   ]
  },
  {
   "cell_type": "code",
   "execution_count": 232,
   "id": "6a2e3ea1",
   "metadata": {},
   "outputs": [
    {
     "data": {
      "text/plain": [
       "tensor([[[1.8297, 1.2963, 1.1808, 1.2654],\n",
       "         [0.4490, 1.0687, 1.3556, 0.6911],\n",
       "         [0.3680, 1.2219, 1.1132, 0.7595]],\n",
       "\n",
       "        [[0.0498, 0.1093, 0.2504, 1.2596],\n",
       "         [0.6790, 1.6915, 0.4595, 1.0404],\n",
       "         [0.0625, 0.4495, 1.9826, 0.1868]]])"
      ]
     },
     "execution_count": 232,
     "metadata": {},
     "output_type": "execute_result"
    }
   ],
   "source": [
    "X"
   ]
  },
  {
   "cell_type": "code",
   "execution_count": 233,
   "id": "edaa20fb",
   "metadata": {},
   "outputs": [
    {
     "data": {
      "text/plain": [
       "tensor([[[1.8297, 0.0000, 0.0000, 0.0000],\n",
       "         [0.0000, 1.0687, 1.3556, 0.0000],\n",
       "         [0.0000, 1.2219, 1.1132, 0.0000]],\n",
       "\n",
       "        [[0.0000, 0.0000, 0.2504, 1.2596],\n",
       "         [0.0000, 1.6915, 0.0000, 0.0000],\n",
       "         [0.0000, 0.0000, 1.9826, 0.0000]]])"
      ]
     },
     "execution_count": 233,
     "metadata": {},
     "output_type": "execute_result"
    }
   ],
   "source": [
    "full_mask = torch.zeros_like(indices,dtype=torch.bool)\n",
    "full_mask.scatter_(dim=dim,index=indices,src=cdf > 1.5)\n",
    "torch.masked_fill(X,full_mask,0)"
   ]
  },
  {
   "cell_type": "markdown",
   "id": "b5fb8dd7",
   "metadata": {},
   "source": [
    "Teď asi potřebuju zkonvertovat, každý prvek na index, takže je ptřeba vytvořit mapu každého prvku\n",
    "\n",
    "* vzít shape[-1] \n",
    "* zavolat arange -> cumprod(shape[:-1])\n",
    "* reshape -> shape"
   ]
  },
  {
   "cell_type": "code",
   "execution_count": 234,
   "id": "79ba6edd",
   "metadata": {},
   "outputs": [
    {
     "data": {
      "text/plain": [
       "tensor([[[ 0],\n",
       "         [ 4],\n",
       "         [ 8]],\n",
       "\n",
       "        [[12],\n",
       "         [16],\n",
       "         [20]]])"
      ]
     },
     "execution_count": 234,
     "metadata": {},
     "output_type": "execute_result"
    }
   ],
   "source": [
    "shape_t = torch.tensor(indices.shape)\n",
    "addition =  torch.reshape(torch.arange(start=0,end=torch.cumprod(shape_t,dim=0)[-1].item(),step=indices.shape[-1]),indices.shape[:-1]).unsqueeze(-1)\n",
    "addition"
   ]
  },
  {
   "cell_type": "code",
   "execution_count": 235,
   "id": "3d87975c",
   "metadata": {},
   "outputs": [
    {
     "data": {
      "text/plain": [
       "tensor([[[0, 1, 3, 2],\n",
       "         [2, 1, 3, 0],\n",
       "         [1, 2, 3, 0]],\n",
       "\n",
       "        [[3, 2, 1, 0],\n",
       "         [1, 3, 0, 2],\n",
       "         [2, 1, 3, 0]]])"
      ]
     },
     "execution_count": 235,
     "metadata": {},
     "output_type": "execute_result"
    }
   ],
   "source": [
    "indices"
   ]
  },
  {
   "cell_type": "code",
   "execution_count": 236,
   "id": "15c59d09",
   "metadata": {},
   "outputs": [
    {
     "data": {
      "text/plain": [
       "tensor([[[ 0,  1,  3,  2],\n",
       "         [ 6,  5,  7,  4],\n",
       "         [ 9, 10, 11,  8]],\n",
       "\n",
       "        [[15, 14, 13, 12],\n",
       "         [17, 19, 16, 18],\n",
       "         [22, 21, 23, 20]]])"
      ]
     },
     "execution_count": 236,
     "metadata": {},
     "output_type": "execute_result"
    }
   ],
   "source": [
    "indices = indices + addition\n",
    "indices"
   ]
  },
  {
   "cell_type": "code",
   "execution_count": 237,
   "id": "088f8b28",
   "metadata": {},
   "outputs": [
    {
     "data": {
      "text/plain": [
       "tensor([[[-1,  1,  3,  2],\n",
       "         [-1, -1,  7,  4],\n",
       "         [-1, -1, 11,  8]],\n",
       "\n",
       "        [[-1, -1, 13, 12],\n",
       "         [-1, 19, 16, 18],\n",
       "         [-1, 21, 23, 20]]])"
      ]
     },
     "execution_count": 237,
     "metadata": {},
     "output_type": "execute_result"
    }
   ],
   "source": [
    "indices[mask] = -1\n",
    "indices"
   ]
  },
  {
   "cell_type": "code",
   "execution_count": 238,
   "id": "dbf1866d",
   "metadata": {},
   "outputs": [
    {
     "data": {
      "text/plain": [
       "tensor([[[1.8297, 0.0000, 0.0000, 0.0000],\n",
       "         [0.0000, 1.0687, 1.3556, 0.0000],\n",
       "         [0.0000, 1.2219, 1.1132, 0.0000]],\n",
       "\n",
       "        [[0.0000, 0.0000, 0.2504, 1.2596],\n",
       "         [0.0000, 1.6915, 0.0000, 0.0000],\n",
       "         [0.0000, 0.0000, 1.9826, 0.0000]]])"
      ]
     },
     "execution_count": 238,
     "metadata": {},
     "output_type": "execute_result"
    }
   ],
   "source": [
    "X[torch.unravel_index(indices[indices > 0],indices.shape)] = 0\n",
    "X"
   ]
  }
 ],
 "metadata": {
  "kernelspec": {
   "display_name": ".venv",
   "language": "python",
   "name": "python3"
  },
  "language_info": {
   "codemirror_mode": {
    "name": "ipython",
    "version": 3
   },
   "file_extension": ".py",
   "mimetype": "text/x-python",
   "name": "python",
   "nbconvert_exporter": "python",
   "pygments_lexer": "ipython3",
   "version": "3.13.3"
  }
 },
 "nbformat": 4,
 "nbformat_minor": 5
}
