{
 "cells": [
  {
   "cell_type": "code",
   "execution_count": 2,
   "id": "66530d2a",
   "metadata": {},
   "outputs": [
    {
     "data": {
      "text/plain": [
       "'hello! こんにちは!'"
      ]
     },
     "execution_count": 2,
     "metadata": {},
     "output_type": "execute_result"
    }
   ],
   "source": [
    "test_string = \"hello! こんにちは!\"\n",
    "test_string"
   ]
  },
  {
   "cell_type": "code",
   "execution_count": null,
   "id": "be2f3873",
   "metadata": {},
   "outputs": [
    {
     "data": {
      "text/plain": [
       "13"
      ]
     },
     "execution_count": 4,
     "metadata": {},
     "output_type": "execute_result"
    }
   ],
   "source": [
    "len(test_string)"
   ]
  },
  {
   "cell_type": "markdown",
   "id": "72fddd19",
   "metadata": {},
   "source": [
    "## UTF8 vs UTF-16"
   ]
  },
  {
   "cell_type": "code",
   "execution_count": 5,
   "id": "94335ba0",
   "metadata": {},
   "outputs": [
    {
     "data": {
      "text/plain": [
       "b'hello! \\xe3\\x81\\x93\\xe3\\x82\\x93\\xe3\\x81\\xab\\xe3\\x81\\xa1\\xe3\\x81\\xaf!'"
      ]
     },
     "execution_count": 5,
     "metadata": {},
     "output_type": "execute_result"
    }
   ],
   "source": [
    "test_bytes =  test_string.encode()\n",
    "test_bytes"
   ]
  },
  {
   "cell_type": "code",
   "execution_count": 11,
   "id": "d307ae13",
   "metadata": {},
   "outputs": [
    {
     "data": {
      "text/plain": [
       "b'\\xe3\\x81\\x93\\xe3\\x82\\x93\\xe3\\x81\\xab\\xe3\\x81\\xa1\\xe3\\x81\\xaf'"
      ]
     },
     "execution_count": 11,
     "metadata": {},
     "output_type": "execute_result"
    }
   ],
   "source": [
    "unicode_bytes = test_bytes[7:][:-1]\n",
    "unicode_bytes"
   ]
  },
  {
   "cell_type": "code",
   "execution_count": 12,
   "id": "d7686f77",
   "metadata": {},
   "outputs": [
    {
     "data": {
      "text/plain": [
       "15"
      ]
     },
     "execution_count": 12,
     "metadata": {},
     "output_type": "execute_result"
    }
   ],
   "source": [
    "len(unicode_bytes)"
   ]
  },
  {
   "cell_type": "code",
   "execution_count": 16,
   "id": "0c8d23e7",
   "metadata": {},
   "outputs": [
    {
     "data": {
      "text/plain": [
       "('こ', 'ん', 'に', 'ち', 'は')"
      ]
     },
     "execution_count": 16,
     "metadata": {},
     "output_type": "execute_result"
    }
   ],
   "source": [
    "unicode_bytes[:3].decode(),unicode_bytes[3:6].decode(),unicode_bytes[6:9].decode(),unicode_bytes[9:12].decode(),unicode_bytes[12:].decode()"
   ]
  },
  {
   "cell_type": "code",
   "execution_count": 27,
   "id": "d77cb298",
   "metadata": {},
   "outputs": [
    {
     "data": {
      "text/plain": [
       "b'\\xff\\xfeh\\x00e\\x00l\\x00l\\x00o\\x00!\\x00 \\x00S0\\x930k0a0o0!\\x00'"
      ]
     },
     "execution_count": 27,
     "metadata": {},
     "output_type": "execute_result"
    }
   ],
   "source": [
    "test_bytes =  test_string.encode(encoding=\"utf-16\")\n",
    "test_bytes"
   ]
  },
  {
   "cell_type": "code",
   "execution_count": 18,
   "id": "c138301c",
   "metadata": {},
   "outputs": [
    {
     "data": {
      "text/plain": [
       "28"
      ]
     },
     "execution_count": 18,
     "metadata": {},
     "output_type": "execute_result"
    }
   ],
   "source": [
    "len(test_bytes)"
   ]
  },
  {
   "cell_type": "code",
   "execution_count": 19,
   "id": "2947bf2f",
   "metadata": {},
   "outputs": [
    {
     "data": {
      "text/plain": [
       "'hello! こんにちは!'"
      ]
     },
     "execution_count": 19,
     "metadata": {},
     "output_type": "execute_result"
    }
   ],
   "source": [
    "test_bytes.decode(encoding=\"utf-16\")"
   ]
  },
  {
   "cell_type": "markdown",
   "id": "d89b2334",
   "metadata": {},
   "source": [
    "## Incorrect function"
   ]
  },
  {
   "cell_type": "code",
   "execution_count": 28,
   "id": "df61e87f",
   "metadata": {},
   "outputs": [],
   "source": [
    "def decode_utf8_bytes_to_str_wrong(bytestring: bytes):\n",
    "    return \"\".join([bytes([b]).decode(\"utf-8\") for b in bytestring])"
   ]
  },
  {
   "cell_type": "code",
   "execution_count": 29,
   "id": "a10072b5",
   "metadata": {},
   "outputs": [],
   "source": [
    "test_bytes =  test_string.encode()"
   ]
  },
  {
   "cell_type": "code",
   "execution_count": 31,
   "id": "f236b6f9",
   "metadata": {},
   "outputs": [],
   "source": [
    "# nefunguje jelikož utf má znaky skládající se z více znaků\n",
    "# decode_utf8_bytes_to_str_wrong(test_bytes)"
   ]
  },
  {
   "cell_type": "markdown",
   "id": "c8cecab2",
   "metadata": {},
   "source": [
    "## Two byte sequence"
   ]
  },
  {
   "cell_type": "code",
   "execution_count": 36,
   "id": "6fda457f",
   "metadata": {},
   "outputs": [],
   "source": [
    "sequence = bytearray(b\"\\xe3\\x81\")"
   ]
  },
  {
   "cell_type": "code",
   "execution_count": null,
   "id": "667f45d3",
   "metadata": {},
   "outputs": [
    {
     "ename": "UnicodeDecodeError",
     "evalue": "'utf-8' codec can't decode bytes in position 0-1: unexpected end of data",
     "output_type": "error",
     "traceback": [
      "\u001b[31m---------------------------------------------------------------------------\u001b[39m",
      "\u001b[31mUnicodeDecodeError\u001b[39m                        Traceback (most recent call last)",
      "\u001b[36mCell\u001b[39m\u001b[36m \u001b[39m\u001b[32mIn[37]\u001b[39m\u001b[32m, line 1\u001b[39m\n\u001b[32m----> \u001b[39m\u001b[32m1\u001b[39m \u001b[43msequence\u001b[49m\u001b[43m.\u001b[49m\u001b[43mdecode\u001b[49m\u001b[43m(\u001b[49m\u001b[43m)\u001b[49m\n",
      "\u001b[31mUnicodeDecodeError\u001b[39m: 'utf-8' codec can't decode bytes in position 0-1: unexpected end of data"
     ]
    }
   ],
   "source": [
    "# jelikož prefix je 1110, tak utf8 očekává 3 byty\n",
    "sequence.decode()"
   ]
  }
 ],
 "metadata": {
  "kernelspec": {
   "display_name": ".venv",
   "language": "python",
   "name": "python3"
  },
  "language_info": {
   "codemirror_mode": {
    "name": "ipython",
    "version": 3
   },
   "file_extension": ".py",
   "mimetype": "text/x-python",
   "name": "python",
   "nbconvert_exporter": "python",
   "pygments_lexer": "ipython3",
   "version": "3.13.3"
  }
 },
 "nbformat": 4,
 "nbformat_minor": 5
}
