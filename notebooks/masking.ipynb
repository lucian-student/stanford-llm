{
 "cells": [
  {
   "cell_type": "code",
   "execution_count": 9,
   "id": "4e8f095e",
   "metadata": {},
   "outputs": [],
   "source": [
    "import torch\n",
    "from einops import rearrange"
   ]
  },
  {
   "cell_type": "markdown",
   "id": "a77084b2",
   "metadata": {},
   "source": [
    "Mám (n,n) matici, musím udělat masku, která má false nad hlavní diagonálou"
   ]
  },
  {
   "cell_type": "code",
   "execution_count": 10,
   "id": "1a445358",
   "metadata": {},
   "outputs": [],
   "source": [
    "rows = torch.arange(10)\n",
    "cols = torch.arange(10)"
   ]
  },
  {
   "cell_type": "markdown",
   "id": "64bdda7a",
   "metadata": {},
   "source": [
    "chci vytvořit matici, kde každá buňka je dvojice (row idx, col idx)"
   ]
  },
  {
   "cell_type": "code",
   "execution_count": 15,
   "id": "12377ef2",
   "metadata": {},
   "outputs": [
    {
     "data": {
      "text/plain": [
       "tensor([[ True, False, False, False, False, False, False, False, False, False],\n",
       "        [ True,  True, False, False, False, False, False, False, False, False],\n",
       "        [ True,  True,  True, False, False, False, False, False, False, False],\n",
       "        [ True,  True,  True,  True, False, False, False, False, False, False],\n",
       "        [ True,  True,  True,  True,  True, False, False, False, False, False],\n",
       "        [ True,  True,  True,  True,  True,  True, False, False, False, False],\n",
       "        [ True,  True,  True,  True,  True,  True,  True, False, False, False],\n",
       "        [ True,  True,  True,  True,  True,  True,  True,  True, False, False],\n",
       "        [ True,  True,  True,  True,  True,  True,  True,  True,  True, False],\n",
       "        [ True,  True,  True,  True,  True,  True,  True,  True,  True,  True]])"
      ]
     },
     "execution_count": 15,
     "metadata": {},
     "output_type": "execute_result"
    }
   ],
   "source": [
    "mask = rearrange(torch.cartesian_prod(rows,cols),\"(rows cols) elements -> rows cols elements\",rows=rows.size()[0])\n",
    "mask = mask[...,0] >= mask[...,1]\n",
    "mask"
   ]
  }
 ],
 "metadata": {
  "kernelspec": {
   "display_name": ".venv",
   "language": "python",
   "name": "python3"
  },
  "language_info": {
   "codemirror_mode": {
    "name": "ipython",
    "version": 3
   },
   "file_extension": ".py",
   "mimetype": "text/x-python",
   "name": "python",
   "nbconvert_exporter": "python",
   "pygments_lexer": "ipython3",
   "version": "3.13.3"
  }
 },
 "nbformat": 4,
 "nbformat_minor": 5
}
