{
 "cells": [
  {
   "cell_type": "code",
   "execution_count": 27,
   "id": "c28dc9ca",
   "metadata": {},
   "outputs": [],
   "source": [
    "import torch\n",
    "import torchvision.models as models\n",
    "from torch.profiler import profile, ProfilerActivity, record_function"
   ]
  },
  {
   "cell_type": "code",
   "execution_count": 28,
   "id": "2e87d73a",
   "metadata": {},
   "outputs": [],
   "source": [
    "device = torch.device(\"cuda\")\n",
    "model = models.resnet18()\n",
    "model.to(device)\n",
    "inputs = torch.randn(5, 3, 224, 224,device=device)"
   ]
  },
  {
   "cell_type": "code",
   "execution_count": 30,
   "id": "53c12b3e",
   "metadata": {},
   "outputs": [
    {
     "name": "stdout",
     "output_type": "stream",
     "text": [
      "-------------------------------------------------------  ------------  ------------  ------------  ------------  ------------  ------------  ------------  ------------  ------------  ------------  \n",
      "                                                   Name    Self CPU %      Self CPU   CPU total %     CPU total  CPU time avg     Self CUDA   Self CUDA %    CUDA total  CUDA time avg    # of Calls  \n",
      "-------------------------------------------------------  ------------  ------------  ------------  ------------  ------------  ------------  ------------  ------------  ------------  ------------  \n",
      "                                  cudaDeviceSynchronize        60.69%     179.404ms        60.69%     179.404ms     179.404ms       0.000us         0.00%       0.000us       0.000us             1  \n",
      "                                        model_inference         9.66%      28.567ms        39.31%     116.180ms     116.180ms       0.000us         0.00%     229.401ms     229.401ms             1  \n",
      "                                           aten::conv2d         0.43%       1.259ms        21.26%      62.830ms       3.142ms       0.000us         0.00%     188.586ms       9.429ms            20  \n",
      "                                      aten::convolution         1.06%       3.145ms        20.83%      61.571ms       3.079ms       0.000us         0.00%     188.586ms       9.429ms            20  \n",
      "                                     aten::_convolution         0.45%       1.343ms        19.77%      58.425ms       2.921ms       0.000us         0.00%     188.586ms       9.429ms            20  \n",
      "                                aten::cudnn_convolution         6.33%      18.706ms        19.31%      57.083ms       2.854ms     174.730ms        81.06%     188.586ms       9.429ms            20  \n",
      "                                       cudaLaunchKernel         8.22%      24.293ms         8.22%      24.293ms     202.444us       0.000us         0.00%       0.000us       0.000us           120  \n",
      "                                           Unrecognized         5.29%      15.648ms         5.29%      15.648ms      15.648ms      13.856ms         6.43%      13.856ms      13.856ms             1  \n",
      "                                       aten::batch_norm         0.08%     231.698us         4.81%      14.216ms     710.780us       0.000us         0.00%      18.165ms     908.249us            20  \n",
      "                           aten::_batch_norm_impl_index         0.14%     410.426us         4.73%      13.984ms     699.195us       0.000us         0.00%      18.165ms     908.249us            20  \n",
      "-------------------------------------------------------  ------------  ------------  ------------  ------------  ------------  ------------  ------------  ------------  ------------  ------------  \n",
      "Self CPU time total: 295.584ms\n",
      "Self CUDA time total: 215.546ms\n",
      "\n"
     ]
    }
   ],
   "source": [
    "with profile(activities=[ProfilerActivity.CUDA,ProfilerActivity.CPU],record_shapes=True) as prof:\n",
    "    with record_function(\"model_inference\"):\n",
    "        model(inputs)\n",
    "print(prof.key_averages().table(sort_by=\"cpu_time_total\", row_limit=10))"
   ]
  }
 ],
 "metadata": {
  "kernelspec": {
   "display_name": ".venv (3.13.5)",
   "language": "python",
   "name": "python3"
  },
  "language_info": {
   "codemirror_mode": {
    "name": "ipython",
    "version": 3
   },
   "file_extension": ".py",
   "mimetype": "text/x-python",
   "name": "python",
   "nbconvert_exporter": "python",
   "pygments_lexer": "ipython3",
   "version": "3.13.5"
  }
 },
 "nbformat": 4,
 "nbformat_minor": 5
}
