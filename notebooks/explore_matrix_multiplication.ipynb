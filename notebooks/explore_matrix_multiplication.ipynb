{
 "cells": [
  {
   "cell_type": "code",
   "execution_count": 1,
   "id": "497d5c6a",
   "metadata": {},
   "outputs": [],
   "source": [
    "import torch\n",
    "from einops import einsum,rearrange"
   ]
  },
  {
   "cell_type": "code",
   "execution_count": 5,
   "id": "3a25bdb5",
   "metadata": {},
   "outputs": [
    {
     "data": {
      "text/plain": [
       "tensor([[[[[ 1.5536,  1.5832]],\n",
       "\n",
       "          [[ 0.2697, -1.5186]],\n",
       "\n",
       "          [[ 0.8133,  1.2879]]],\n",
       "\n",
       "\n",
       "         [[[-1.7239, -0.0918]],\n",
       "\n",
       "          [[ 0.3338, -0.2085]],\n",
       "\n",
       "          [[-2.0095,  0.5221]]]],\n",
       "\n",
       "\n",
       "\n",
       "        [[[[-0.1669,  1.3147]],\n",
       "\n",
       "          [[-1.0036, -0.3147]],\n",
       "\n",
       "          [[ 0.4353,  0.6237]]],\n",
       "\n",
       "\n",
       "         [[[ 0.5371,  0.3050]],\n",
       "\n",
       "          [[ 2.1390, -0.1724]],\n",
       "\n",
       "          [[-1.8235, -2.0786]]]],\n",
       "\n",
       "\n",
       "\n",
       "        [[[[-1.1545,  0.7307]],\n",
       "\n",
       "          [[ 0.5173,  0.5538]],\n",
       "\n",
       "          [[ 1.5493, -0.3973]]],\n",
       "\n",
       "\n",
       "         [[[-0.9611, -0.0044]],\n",
       "\n",
       "          [[ 0.9902, -0.7211]],\n",
       "\n",
       "          [[-0.1170, -0.9117]]]]])"
      ]
     },
     "execution_count": 5,
     "metadata": {},
     "output_type": "execute_result"
    }
   ],
   "source": [
    "\n",
    "X = torch.randn(3, 2, 3,1,2)\n",
    "X"
   ]
  },
  {
   "cell_type": "code",
   "execution_count": 12,
   "id": "cf90a7a8",
   "metadata": {},
   "outputs": [
    {
     "data": {
      "text/plain": [
       "tensor([[[[[ 0.5713,  1.0282],\n",
       "           [ 0.6982, -1.1541]],\n",
       "\n",
       "          [[ 0.8792,  0.2790],\n",
       "           [ 0.9503,  0.3768]],\n",
       "\n",
       "          [[ 0.8104, -1.1053],\n",
       "           [-0.6793, -2.0892]]],\n",
       "\n",
       "\n",
       "         [[[-0.3447, -1.1228],\n",
       "           [-0.0131,  1.1091]],\n",
       "\n",
       "          [[-1.7504,  0.3042],\n",
       "           [ 0.2912, -0.2253]],\n",
       "\n",
       "          [[-0.7090,  1.1476],\n",
       "           [ 0.8632, -0.8096]]]],\n",
       "\n",
       "\n",
       "\n",
       "        [[[[-2.5421, -0.6372],\n",
       "           [-1.2401, -1.8393]],\n",
       "\n",
       "          [[-1.1475, -0.3551],\n",
       "           [-1.0730,  1.0320]],\n",
       "\n",
       "          [[ 0.8372,  0.2571],\n",
       "           [-1.5527, -0.4901]]],\n",
       "\n",
       "\n",
       "         [[[-1.0632,  1.0088],\n",
       "           [ 0.0080,  1.8577]],\n",
       "\n",
       "          [[ 0.2154,  0.2595],\n",
       "           [-1.3490,  1.1124]],\n",
       "\n",
       "          [[-1.3731, -1.0520],\n",
       "           [ 0.7171,  0.0145]]]],\n",
       "\n",
       "\n",
       "\n",
       "        [[[[-0.4785, -0.3878],\n",
       "           [-0.0234,  0.8686]],\n",
       "\n",
       "          [[-1.6335,  1.0022],\n",
       "           [-0.4498,  0.0683]],\n",
       "\n",
       "          [[-0.7338,  0.9556],\n",
       "           [-0.6267, -1.3075]]],\n",
       "\n",
       "\n",
       "         [[[-0.1745,  0.4129],\n",
       "           [-0.6534, -0.1017]],\n",
       "\n",
       "          [[-0.3353,  0.9114],\n",
       "           [ 0.8584,  0.8744]],\n",
       "\n",
       "          [[-0.2782, -0.1662],\n",
       "           [-0.5062,  0.9136]]]]])"
      ]
     },
     "execution_count": 12,
     "metadata": {},
     "output_type": "execute_result"
    }
   ],
   "source": [
    "R = torch.randn(3,2,3,2,2)\n",
    "R"
   ]
  },
  {
   "cell_type": "code",
   "execution_count": null,
   "id": "092c8c39",
   "metadata": {},
   "outputs": [
    {
     "data": {
      "text/plain": [
       "tensor([[[ 1.5536,  1.5832]],\n",
       "\n",
       "        [[ 0.2697, -1.5186]],\n",
       "\n",
       "        [[ 0.8133,  1.2879]]])"
      ]
     },
     "execution_count": 15,
     "metadata": {},
     "output_type": "execute_result"
    }
   ],
   "source": [
    "X_seq = X[0,0]\n",
    "X_seq,X_seq.shape"
   ]
  },
  {
   "cell_type": "code",
   "execution_count": 19,
   "id": "af17c319",
   "metadata": {},
   "outputs": [
    {
     "data": {
      "text/plain": [
       "(tensor([[[ 0.5713,  1.0282],\n",
       "          [ 0.6982, -1.1541]],\n",
       " \n",
       "         [[ 0.8792,  0.2790],\n",
       "          [ 0.9503,  0.3768]],\n",
       " \n",
       "         [[ 0.8104, -1.1053],\n",
       "          [-0.6793, -2.0892]]]),\n",
       " torch.Size([3, 2, 2]))"
      ]
     },
     "execution_count": 19,
     "metadata": {},
     "output_type": "execute_result"
    }
   ],
   "source": [
    "R_seq = R[0,0]\n",
    "R_seq,R_seq.shape"
   ]
  },
  {
   "cell_type": "code",
   "execution_count": 25,
   "id": "ee5f3d81",
   "metadata": {},
   "outputs": [
    {
     "data": {
      "text/plain": [
       "2.51541792"
      ]
     },
     "execution_count": 25,
     "metadata": {},
     "output_type": "execute_result"
    }
   ],
   "source": [
    "1.5536 * 0.5713 + 1.5832 * 1.0282"
   ]
  },
  {
   "cell_type": "code",
   "execution_count": 29,
   "id": "89b9e253",
   "metadata": {},
   "outputs": [],
   "source": [
    "assert torch.allclose(einsum(X,R,\"... seq x1 y, ... seq x y -> ... seq x1 x\"),X @ rearrange(R,\"... seq x y -> ... seq y x\")) "
   ]
  },
  {
   "cell_type": "code",
   "execution_count": 26,
   "id": "01d0fe90",
   "metadata": {},
   "outputs": [
    {
     "data": {
      "text/plain": [
       "tensor([[[ 2.5154, -0.7424]],\n",
       "\n",
       "        [[-0.1865, -0.3159]],\n",
       "\n",
       "        [[-0.7643, -3.2431]]])"
      ]
     },
     "execution_count": 26,
     "metadata": {},
     "output_type": "execute_result"
    }
   ],
   "source": [
    "einsum(X_seq,R_seq,\"... seq x1 y, ... seq x y -> ... seq x1 x\")"
   ]
  },
  {
   "cell_type": "code",
   "execution_count": 23,
   "id": "554df296",
   "metadata": {},
   "outputs": [
    {
     "data": {
      "text/plain": [
       "tensor([[[ 2.5154, -0.7424]],\n",
       "\n",
       "        [[-0.1865, -0.3159]],\n",
       "\n",
       "        [[-0.7643, -3.2431]]])"
      ]
     },
     "execution_count": 23,
     "metadata": {},
     "output_type": "execute_result"
    }
   ],
   "source": [
    "X_seq @ rearrange(R_seq,\"... seq x y -> ... seq y x\")"
   ]
  }
 ],
 "metadata": {
  "kernelspec": {
   "display_name": ".venv",
   "language": "python",
   "name": "python3"
  },
  "language_info": {
   "codemirror_mode": {
    "name": "ipython",
    "version": 3
   },
   "file_extension": ".py",
   "mimetype": "text/x-python",
   "name": "python",
   "nbconvert_exporter": "python",
   "pygments_lexer": "ipython3",
   "version": "3.13.3"
  }
 },
 "nbformat": 4,
 "nbformat_minor": 5
}
