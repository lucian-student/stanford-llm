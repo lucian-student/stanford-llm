{
 "cells": [
  {
   "cell_type": "code",
   "execution_count": 181,
   "id": "649d3e64",
   "metadata": {},
   "outputs": [],
   "source": [
    "import torch\n",
    "from einops import einsum, rearrange\n",
    "from jaxtyping import Float\n",
    "import math"
   ]
  },
  {
   "cell_type": "markdown",
   "id": "2acf8d1f",
   "metadata": {},
   "source": [
    "Máme vsutpní (... seq d_k) tensor\n",
    "\n",
    "Máme pozice (... seq) tensor\n",
    "\n",
    "hledáme v podstatě $\\theta_{i,k} = \\dfrac{i}{\\Theta^{2k/d}}$ v paperu je (k-1), $i$ je pozice tokenu $\\Theta = 10000$\n",
    "\n",
    "$ \\begin{bmatrix} cos(\\beta) & -sin(\\beta) \\\\ sin(\\beta) & cos(\\beta) \\end{bmatrix} $\n",
    "\n",
    "1. Jako první bych si měl předpočítat tensor d_k/2 2 2 tensor, který bude obsahovat úhly $\\dfrac{1}{\\Theta^{2k/d}}$\n",
    "2. Potom reshapnout vstupní tensor na (... seq d_k/2 1 2)\n",
    "3. Tensor s úhly předělat na ... seq d_k/2 2 2 tensor pomocí pozicí ... seq 1 1 1\n",
    "4. zavolat sinus cosinus a -sinus podle potřeby\n",
    "5. vynásobím ... seq dk/2 2 2 s ... seq dk/2 1 2 -> ... seq dk "
   ]
  },
  {
   "cell_type": "markdown",
   "id": "8b3d080d",
   "metadata": {},
   "source": [
    "Vstup: b=3,seq 2, d_k 6\n",
    "Výstup: b=3,seq 2"
   ]
  },
  {
   "cell_type": "code",
   "execution_count": 190,
   "id": "d8aeec42",
   "metadata": {},
   "outputs": [],
   "source": [
    "b = 3\n",
    "seq = 2\n",
    "d_k = 6\n",
    "theta = 10000\n",
    "X = torch.randn(b, seq, d_k)\n",
    "position = torch.arange(start=1, end=seq + 1, step=1, dtype=torch.float)\n"
   ]
  },
  {
   "cell_type": "code",
   "execution_count": 183,
   "id": "6367ea60",
   "metadata": {},
   "outputs": [
    {
     "data": {
      "text/plain": [
       "(torch.Size([3, 2, 6]), torch.Size([3, 2]))"
      ]
     },
     "execution_count": 183,
     "metadata": {},
     "output_type": "execute_result"
    }
   ],
   "source": [
    "X.shape,position.shape"
   ]
  },
  {
   "cell_type": "code",
   "execution_count": 187,
   "id": "d31b5bda",
   "metadata": {},
   "outputs": [
    {
     "data": {
      "text/plain": [
       "tensor([4.6416e-02, 2.1544e-03, 1.0000e-04])"
      ]
     },
     "execution_count": 187,
     "metadata": {},
     "output_type": "execute_result"
    }
   ],
   "source": [
    "Rs = []\n",
    "for k in range(1,int(d_k / 2) + 1,1):\n",
    "    Rs.append(1 / math.pow(theta, 2 * k / d_k))\n",
    "R = torch.tensor(Rs,dtype=torch.float)\n",
    "R"
   ]
  },
  {
   "cell_type": "markdown",
   "id": "97b859af",
   "metadata": {},
   "source": [
    "## Pure torch"
   ]
  },
  {
   "cell_type": "code",
   "execution_count": 191,
   "id": "6635fa51",
   "metadata": {},
   "outputs": [
    {
     "data": {
      "text/plain": [
       "torch.Size([3, 2, 3, 1, 2])"
      ]
     },
     "execution_count": 191,
     "metadata": {},
     "output_type": "execute_result"
    }
   ],
   "source": [
    "X_preped = rearrange(X,\"... seq ( dk_2 x ) -> ... seq dk_2 1 x \",x=2)\n",
    "X_preped.shape"
   ]
  },
  {
   "cell_type": "code",
   "execution_count": 192,
   "id": "c35b59ae",
   "metadata": {},
   "outputs": [
    {
     "data": {
      "text/plain": [
       "tensor([[4.6416e-02, 2.1544e-03, 1.0000e-04],\n",
       "        [9.2832e-02, 4.3089e-03, 2.0000e-04]])"
      ]
     },
     "execution_count": 192,
     "metadata": {},
     "output_type": "execute_result"
    }
   ],
   "source": [
    "position_preped = rearrange(position, \" ... -> ... 1\")\n",
    "R_preped = position_preped * R\n",
    "R_preped"
   ]
  },
  {
   "cell_type": "code",
   "execution_count": 202,
   "id": "0f6a6ab9",
   "metadata": {},
   "outputs": [
    {
     "data": {
      "text/plain": [
       "(tensor([[[4.6399e-02],\n",
       "          [2.1544e-03],\n",
       "          [1.0000e-04]],\n",
       " \n",
       "         [[9.2698e-02],\n",
       "          [4.3089e-03],\n",
       "          [2.0000e-04]]]),\n",
       " tensor([[[0.9989],\n",
       "          [1.0000],\n",
       "          [1.0000]],\n",
       " \n",
       "         [[0.9957],\n",
       "          [1.0000],\n",
       "          [1.0000]]]))"
      ]
     },
     "execution_count": 202,
     "metadata": {},
     "output_type": "execute_result"
    }
   ],
   "source": [
    "R_cos = torch.cos(R_preped).unsqueeze(-1)\n",
    "R_sin = torch.sin(R_preped).unsqueeze(-1)\n",
    "R_sin,R_cos"
   ]
  },
  {
   "cell_type": "code",
   "execution_count": 206,
   "id": "438a2900",
   "metadata": {},
   "outputs": [
    {
     "data": {
      "text/plain": [
       "(tensor([0.9989]), tensor([-0.0464]), tensor([0.0464]), tensor([0.9989]))"
      ]
     },
     "execution_count": 206,
     "metadata": {},
     "output_type": "execute_result"
    }
   ],
   "source": [
    "R_cos[0,0],-R_sin[0,0],R_sin[0,0],R_cos[0,0]"
   ]
  },
  {
   "cell_type": "code",
   "execution_count": 216,
   "id": "0bc29486",
   "metadata": {},
   "outputs": [
    {
     "data": {
      "text/plain": [
       "torch.Size([2, 3, 2, 2])"
      ]
     },
     "execution_count": 216,
     "metadata": {},
     "output_type": "execute_result"
    }
   ],
   "source": [
    "R_final = rearrange(torch.stack([R_cos,-R_sin,R_sin,R_cos],dim=-1).squeeze(-2),\" ... seq dk_2 (x1 x2) -> ... seq dk_2 x1 x2\",x1=2,x2=2)\n",
    "R_final.shape"
   ]
  },
  {
   "cell_type": "code",
   "execution_count": 218,
   "id": "e5f2b016",
   "metadata": {},
   "outputs": [
    {
     "data": {
      "text/plain": [
       "torch.Size([3, 2, 3, 1, 2])"
      ]
     },
     "execution_count": 218,
     "metadata": {},
     "output_type": "execute_result"
    }
   ],
   "source": [
    "preres = einsum(X_preped,R_final,\" ... seq dk_2 x1 y, ... seq dk_2 x y -> ... seq dk_2 x1 y\")\n",
    "preres.shape"
   ]
  },
  {
   "cell_type": "code",
   "execution_count": 220,
   "id": "0ad7a15b",
   "metadata": {},
   "outputs": [
    {
     "data": {
      "text/plain": [
       "tensor([[[ 9.6661e-01, -2.4718e-02, -5.4635e-01,  3.4806e-03, -1.6450e+00,\n",
       "           1.5395e+00],\n",
       "         [ 8.4087e-04, -1.0848e+00,  2.1471e-02,  1.7415e+00,  7.0707e-02,\n",
       "           1.8446e-01]],\n",
       "\n",
       "        [[ 1.9648e+00, -1.5071e+00,  1.1999e+00,  1.4236e+00,  6.1655e-01,\n",
       "           8.1411e-01],\n",
       "         [ 1.2184e+00,  9.3472e-01, -4.8975e-01,  3.1724e-01, -4.5013e-01,\n",
       "           4.9193e-01]],\n",
       "\n",
       "        [[ 6.8069e-01,  1.3673e+00,  9.1306e-01, -1.0062e-02,  5.7589e-01,\n",
       "           2.9981e-01],\n",
       "         [ 5.3776e-01, -1.8274e+00,  1.2193e+00, -1.1139e+00,  2.1593e-03,\n",
       "           1.2228e+00]]])"
      ]
     },
     "execution_count": 220,
     "metadata": {},
     "output_type": "execute_result"
    }
   ],
   "source": [
    "res = rearrange(preres,\"... seq dk_2 x y -> ... seq (dk_2 x y)\")\n",
    "res"
   ]
  }
 ],
 "metadata": {
  "kernelspec": {
   "display_name": ".venv",
   "language": "python",
   "name": "python3"
  },
  "language_info": {
   "codemirror_mode": {
    "name": "ipython",
    "version": 3
   },
   "file_extension": ".py",
   "mimetype": "text/x-python",
   "name": "python",
   "nbconvert_exporter": "python",
   "pygments_lexer": "ipython3",
   "version": "3.13.3"
  }
 },
 "nbformat": 4,
 "nbformat_minor": 5
}
