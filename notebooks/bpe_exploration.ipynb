{
 "cells": [
  {
   "cell_type": "code",
   "execution_count": 16,
   "id": "36365c5b",
   "metadata": {},
   "outputs": [],
   "source": [
    "import  regex as re"
   ]
  },
  {
   "cell_type": "code",
   "execution_count": 17,
   "id": "a1cdad0b",
   "metadata": {},
   "outputs": [],
   "source": [
    "PAT = r\"\"\"'(?:[sdmt]|ll|ve|re)| ?\\p{L}+| ?\\p{N}+| ?[^\\s\\p{L}\\p{N}]+|\\s+(?!\\S)|\\s+\"\"\""
   ]
  },
  {
   "cell_type": "markdown",
   "id": "a72ee3f7",
   "metadata": {},
   "source": [
    "* '(?:[sdmt]|ll|ve|re)\n",
    "    * matchuje specifické sekvence začínající apostrofem \n",
    "    * 've -> have, 's -> is\n",
    "* ?\\p{L}+\n",
    "    * sekvence začíná mezerou, nebo ne \" ?\", říká namatchuje mezeru 1 nebo 0\n",
    "    * ? -> říká asi, že tam nemusí být nic\n",
    "    * p slouží pro matchování pro unicode\n",
    "    * namatchuje sekvenci písmen v libovolném jazyce\n",
    "* ?[^\\s\\p{L}\\p{N}]+\n",
    "    * namatchuj token, který není z písmen ani čísel ani whitespacu\n",
    "* \\s+(?!\\S)\n",
    "    * \\s whitespace\n",
    "    * \\S není whitespace\n",
    "    * negative lookahead -> namatchuje whitespace, pokud není nasledované non-whitespacem\n",
    "* \\s+\n",
    "    * namatchuje se whitespace"
   ]
  },
  {
   "cell_type": "code",
   "execution_count": 18,
   "id": "75043ca8",
   "metadata": {},
   "outputs": [
    {
     "data": {
      "text/plain": [
       "['some', ' text', ' that', ' i', \"'ll\", ' pre', '-', 'tokenize']"
      ]
     },
     "execution_count": 18,
     "metadata": {},
     "output_type": "execute_result"
    }
   ],
   "source": [
    "re.findall(PAT, \"some text that i'll pre-tokenize\")"
   ]
  },
  {
   "cell_type": "code",
   "execution_count": 19,
   "id": "ef382727",
   "metadata": {},
   "outputs": [
    {
     "data": {
      "text/plain": [
       "['yellow', '  ', ' helo']"
      ]
     },
     "execution_count": 19,
     "metadata": {},
     "output_type": "execute_result"
    }
   ],
   "source": [
    "re.findall(PAT,\"yellow   helo\")"
   ]
  }
 ],
 "metadata": {
  "kernelspec": {
   "display_name": ".venv",
   "language": "python",
   "name": "python3"
  },
  "language_info": {
   "codemirror_mode": {
    "name": "ipython",
    "version": 3
   },
   "file_extension": ".py",
   "mimetype": "text/x-python",
   "name": "python",
   "nbconvert_exporter": "python",
   "pygments_lexer": "ipython3",
   "version": "3.13.3"
  }
 },
 "nbformat": 4,
 "nbformat_minor": 5
}
