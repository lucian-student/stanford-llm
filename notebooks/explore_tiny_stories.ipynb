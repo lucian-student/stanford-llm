{
 "cells": [
  {
   "cell_type": "code",
   "execution_count": 1,
   "id": "d4a8e8f6",
   "metadata": {},
   "outputs": [],
   "source": [
    "import os\n",
    "import sys\n",
    "\n",
    "sys.path.append(os.path.join(os.getcwd(), \"..\"))\n",
    "from cs336_basics import Tokenizer"
   ]
  },
  {
   "cell_type": "code",
   "execution_count": 2,
   "id": "73a577fe",
   "metadata": {},
   "outputs": [],
   "source": [
    "path = os.path.join(os.getcwd(),\"..\",\"data\",\"TinyStoriesV2-GPT4-valid.txt\")\n",
    "file = open(path,\"rb\")"
   ]
  },
  {
   "cell_type": "code",
   "execution_count": 3,
   "id": "c1fb81f5",
   "metadata": {},
   "outputs": [
    {
     "data": {
      "text/plain": [
       "22502601"
      ]
     },
     "execution_count": 3,
     "metadata": {},
     "output_type": "execute_result"
    }
   ],
   "source": [
    "file.seek(0, os.SEEK_END)\n",
    "file_size = file.tell()\n",
    "file.seek(0)\n",
    "file_size"
   ]
  },
  {
   "cell_type": "code",
   "execution_count": 4,
   "id": "37bdb7a3",
   "metadata": {},
   "outputs": [
    {
     "data": {
      "text/plain": [
       "b'u don\\'t have to be scared of the loud dog, I\\'ll protect you\". The mole felt so safe with the little girl. She was very kind and the mole soon came to trust her. He leaned against her and she kept him safe. The mole had found his best friend.\\n<|endoftext|>\\nOnce upon a time, in a warm and sunny place, there was a big pit. A little boy named Tom liked to play near the pit. One day, Tom lost his red ball. He was very sad.\\nTom asked his friend, Sam, to help him search for the ball. They looked high and low, but they could not find the ball. Tom said, \"I think my ball fell into the pit.\"\\nSam and Tom went close to the pit. They were scared, but they wanted to find the red ball. They looked into the pit, but it was too dark to see. Tom said, \"We must go in and search for my ball.\"\\nThey went into the pit to search. It was dark and scary. They could not find the ball. They tried to get out, but the pit was too deep. Tom and Sam were stuck in the pit. They called for help, but no one could hear them. They were sad and scared, and they never got out of the pit.\\n<|endoftext|>\\n\\n\\nTom and Lily were playing with their toys in the living room. They liked to build towers and bridges with their blocks and cars. Tom was very proud of his tall tower. He wanted to make it even taller, so he reached for more blocks.\\n\"Tom, can I have some blocks too?\" Lily asked. She wanted to make a bridge for her cars.\\n\"No, these are mine. Go find your own,\" Tom said. He did not want to share with his sister. He pulled the blocks closer to him.\\nLily felt sad and angry. She did not think Tom was being nice. She looked at his tower and had an idea. She decided to pull one of the blocks at the bottom of the tower.\\nSuddenly, the tower fell down with a loud crash. All the blocks and cars scattered on the floor. Tom and Lily were shocked. They felt the floor shake and heard a rumble. It was an earthquake!\\n\"Mommy! Daddy!\" they cried. They were scared and ran to their parents, who were in the kitchen.\\n\"Are you okay, kids?\" Mommy asked. She hugged them and checked if they were hurt.\\n\"We\\'re okay, Mommy. But our toys are broken,\" Lily said.\\n\"I\\'m sorry, Lily. But toys are not important. You are important. We are safe and together. That\\'s what matters,\" Mommy said.\\nTom felt sorry for what he did. He realized he was selfish and mean to his sister. He saw how scared she was during the earthquake. He wanted to make her happy.\\n\"Lily, I\\'m sorry I did not share with you. You can have all the blocks you want. I love you, sister,\" Tom said.\\nLily smiled and hugged him. She forgave him and thanked him. She loved him too.\\nThey went back to the living room and cleaned up their toys. They decided to build something together. They made a big house with a garden and a fence. They put their cars and dolls inside. They were happy and proud of their work.\\nMommy and Daddy came to see their house. They praised them and gave them a treat. It was a lemon cake. It was sour, but they liked it. They learned that sharing is caring, and that family is sweet.\\n<|endoftext|>\\n\\nOnce upon a time there was a little girl named Lucy. She loved to go to the store to buy sweets with her mom and dad. On this special day, Lucy entered the store with her mom and dad, feeling so excited.\\nAs they were looking around, Lucy noticed a little girl playing with a toy in the corner of the store. She gasped in excitement and ran towards her. Lucy asked if she could play too but the little girl said no. She was rather grumpy and was not in the mood to play.\\nLucy\\'s mom saw what was going on and told Lucy, \"Let\\'s try to be peaceful and kind to her. Have patience and understanding. Together, you can both be happy!\"\\nSo, Lucy smiled at the girl and said, \"Can we play together?\" The little girl softened and smiled back. She agreed to share the toy and even let Lucy have a turn first.\\nLucy and the little girl played together happily. In the end, they both learnt an important lesson: be peaceful, kind, and understanding when faced with a conflict. And that is why Lucy and the little girl became great friends.\\n<|endoftext|>\\nOne mor'"
      ]
     },
     "execution_count": 4,
     "metadata": {},
     "output_type": "execute_result"
    }
   ],
   "source": [
    "data = file.read(4096)\n",
    "data"
   ]
  },
  {
   "cell_type": "code",
   "execution_count": 5,
   "id": "f7f0b808",
   "metadata": {},
   "outputs": [],
   "source": [
    "tokenizer = Tokenizer(vocab_size=500,special_tokens=[\"<|endoftext|>\"])    "
   ]
  },
  {
   "cell_type": "code",
   "execution_count": 6,
   "id": "edf2ecf9",
   "metadata": {},
   "outputs": [
    {
     "name": "stdout",
     "output_type": "stream",
     "text": [
      "[(242, 243), (244, 253), (254, 255), (1066, 1067), (1068, 1077), (1078, 1079), (3035, 3036), (3037, 3046), (3047, 3048), (4075, 4076)]\n",
      "82890\n",
      "13112\n"
     ]
    }
   ],
   "source": [
    "tokenizer.fit(path,verbose=True,num_processes=5)"
   ]
  },
  {
   "cell_type": "code",
   "execution_count": 8,
   "id": "0a7267bd",
   "metadata": {},
   "outputs": [
    {
     "data": {
      "text/plain": [
       "[(b' ', b't'),\n",
       " (b'h', b'e'),\n",
       " (b' ', b'a'),\n",
       " (b' ', b's'),\n",
       " (b' ', b'w'),\n",
       " (b' t', b'he'),\n",
       " (b'n', b'd'),\n",
       " (b'e', b'd'),\n",
       " (b' ', b'b'),\n",
       " (b' t', b'o'),\n",
       " (b' a', b'nd'),\n",
       " (b' ', b'h'),\n",
       " (b' ', b'f'),\n",
       " (b' ', b'T'),\n",
       " (b'i', b'n'),\n",
       " (b' w', b'a'),\n",
       " (b'r', b'e'),\n",
       " (b'i', b't'),\n",
       " (b'o', b'u'),\n",
       " (b' ', b'l'),\n",
       " (b' ', b'd'),\n",
       " (b' ', b'c'),\n",
       " (b' ', b'p'),\n",
       " (b'a', b'y'),\n",
       " (b' ', b'm'),\n",
       " (b'e', b'r'),\n",
       " (b' wa', b's'),\n",
       " (b' T', b'he'),\n",
       " (b'o', b'm'),\n",
       " (b' ', b'he'),\n",
       " (b'i', b's'),\n",
       " (b' ', b'n'),\n",
       " (b'i', b'm'),\n",
       " (b'a', b'r'),\n",
       " (b'o', b'n'),\n",
       " (b' s', b'a'),\n",
       " (b'l', b'l'),\n",
       " (b'i', b'd'),\n",
       " (b' h', b'a'),\n",
       " (b' ', b'g'),\n",
       " (b'a', b't'),\n",
       " (b' ', b'S'),\n",
       " (b'in', b'g'),\n",
       " (b'o', b't'),\n",
       " (b'e', b'n'),\n",
       " (b'a', b'n'),\n",
       " (b'l', b'e'),\n",
       " (b'o', b'r'),\n",
       " (b'i', b'r'),\n",
       " (b'a', b'm'),\n",
       " (b'e', b't'),\n",
       " (b' ', b'H'),\n",
       " (b' ', b'it'),\n",
       " (b' t', b'h'),\n",
       " (b'i', b'g'),\n",
       " (b' The', b'y'),\n",
       " (b' p', b'l'),\n",
       " (b' ', b'in'),\n",
       " (b'i', b'l'),\n",
       " (b' H', b'e'),\n",
       " (b' ', b'\"'),\n",
       " (b'o', b'w'),\n",
       " (b'v', b'er'),\n",
       " (b'r', b'i'),\n",
       " (b' ', b'u'),\n",
       " (b'u', b't'),\n",
       " (b' pl', b'ay'),\n",
       " (b'it', b'h'),\n",
       " (b' sa', b'id'),\n",
       " (b' b', b'e'),\n",
       " (b' d', b'ay'),\n",
       " (b' w', b'ith'),\n",
       " (b'p', b'p'),\n",
       " (b'O', b'n'),\n",
       " (b' ', b'o'),\n",
       " (b' ', b'y'),\n",
       " (b'o', b'o'),\n",
       " (b'k', b'ed'),\n",
       " (b' ', b'r'),\n",
       " (b' he', b'r'),\n",
       " (b'c', b'e'),\n",
       " (b'l', b'd'),\n",
       " (b' h', b'is'),\n",
       " (b' T', b'im'),\n",
       " (b' ', b'I'),\n",
       " (b' S', b'he'),\n",
       " (b' s', b't'),\n",
       " (b'k', b'e'),\n",
       " (b' ', b'e'),\n",
       " (b' b', b'ig'),\n",
       " (b'n', b't'),\n",
       " (b'c', b'k'),\n",
       " (b'ver', b'y'),\n",
       " (b' y', b'ou'),\n",
       " (b's', b't'),\n",
       " (b'v', b'e'),\n",
       " (b'e', b'nd'),\n",
       " (b'u', b'n'),\n",
       " (b' ha', b'pp'),\n",
       " (b' ', b'on'),\n",
       " (b'a', b'll'),\n",
       " (b'ri', b'end'),\n",
       " (b' f', b'riend'),\n",
       " (b' the', b'y'),\n",
       " (b' ', b'L'),\n",
       " (b'il', b'y'),\n",
       " (b' w', b'e'),\n",
       " (b' ha', b'd'),\n",
       " (b' u', b'p'),\n",
       " (b' l', b'i'),\n",
       " (b' n', b'ot'),\n",
       " (b'he', b'r'),\n",
       " (b' wa', b'nt'),\n",
       " (b'it', b't'),\n",
       " (b' o', b'f'),\n",
       " (b'a', b'd'),\n",
       " (b' d', b'o'),\n",
       " (b' ', b'B'),\n",
       " (b's', b'e'),\n",
       " (b' happ', b'y'),\n",
       " (b'en', b't'),\n",
       " (b' ', b'very'),\n",
       " (b' ', b'M'),\n",
       " (b'e', b's'),\n",
       " (b' sa', b'w'),\n",
       " (b'On', b'e'),\n",
       " (b' th', b'at'),\n",
       " (b'ou', b'ld'),\n",
       " (b\"'\", b's'),\n",
       " (b' f', b'or'),\n",
       " (b'itt', b'le'),\n",
       " (b' m', b'om'),\n",
       " (b' l', b'ittle'),\n",
       " (b' s', b'o'),\n",
       " (b' s', b'h'),\n",
       " (b' s', b'he'),\n",
       " (b'im', b'e'),\n",
       " (b'c', b'h'),\n",
       " (b' n', b'am'),\n",
       " (b' t', b'ime'),\n",
       " (b' ', b'k'),\n",
       " (b' n', b'e'),\n",
       " (b'ou', b'nd'),\n",
       " (b'.', b'\"'),\n",
       " (b' the', b're'),\n",
       " (b' nam', b'ed'),\n",
       " (b' b', b'o'),\n",
       " (b' s', b'm'),\n",
       " (b' we', b're'),\n",
       " (b' want', b'ed'),\n",
       " (b' L', b'ily'),\n",
       " (b' friend', b's'),\n",
       " (b'ou', b't'),\n",
       " (b'ir', b'd'),\n",
       " (b' b', b'ut'),\n",
       " (b'v', b'ed'),\n",
       " (b'h', b't'),\n",
       " (b'!', b'\"'),\n",
       " (b'T', b'he'),\n",
       " (b' T', b'om'),\n",
       " (b' b', b'ird'),\n",
       " (b'e', b'l'),\n",
       " (b'a', b'ke'),\n",
       " (b' a', b'n'),\n",
       " (b'a', b'l'),\n",
       " (b' to', b'o'),\n",
       " (b'om', b'e'),\n",
       " (b' w', b'ent'),\n",
       " (b' w', b'h'),\n",
       " (b'id', b'e'),\n",
       " (b'On', b'ce'),\n",
       " (b' a', b'll'),\n",
       " (b' I', b't'),\n",
       " (b' he', b'l'),\n",
       " (b'u', b'g'),\n",
       " (b'u', b'e'),\n",
       " (b' hel', b'p'),\n",
       " (b' ', b'is'),\n",
       " (b' l', b'oo'),\n",
       " (b' ', b'A'),\n",
       " (b' up', b'on'),\n",
       " (b' l', b'o'),\n",
       " (b't', b'er'),\n",
       " (b'r', b'y'),\n",
       " (b' to', b'y'),\n",
       " (b'o', b're'),\n",
       " (b' f', b'un'),\n",
       " (b'i', b'nd'),\n",
       " (b'g', b'et'),\n",
       " (b'i', b'll'),\n",
       " (b'am', b'e'),\n",
       " (b' a', b's'),\n",
       " (b' ', b'j'),\n",
       " (b'r', b'a'),\n",
       " (b' a', b't'),\n",
       " (b'get', b'her'),\n",
       " (b' c', b'at'),\n",
       " (b' d', b'id'),\n",
       " (b' ', b're'),\n",
       " (b'u', b'r'),\n",
       " (b' to', b'gether'),\n",
       " (b'a', b'ck'),\n",
       " (b' s', b'e'),\n",
       " (b'l', b'y'),\n",
       " (b' t', b're'),\n",
       " (b'oo', b'd'),\n",
       " (b' do', b'g'),\n",
       " (b'i', b'c'),\n",
       " (b' c', b'ould'),\n",
       " (b't', b'ed'),\n",
       " (b' c', b'an'),\n",
       " (b' b', b'all'),\n",
       " (b'ar', b'd'),\n",
       " (b' g', b'ir'),\n",
       " (b' the', b'ir'),\n",
       " (b'ar', b'k'),\n",
       " (b' gir', b'l'),\n",
       " (b' play', b'ed'),\n",
       " (b'e', b'c'),\n",
       " (b'm', b'y'),\n",
       " (b' h', b'im'),\n",
       " (b' g', b'o'),\n",
       " (b'w', b'ay'),\n",
       " (b' r', b'o'),\n",
       " (b'?', b'\"'),\n",
       " (b'he', b'd'),\n",
       " (b'a', b'in'),\n",
       " (b' k', b'n'),\n",
       " (b' l', b'e'),\n",
       " (b' ', b'out'),\n",
       " (b'he', b'n'),\n",
       " (b' a', b're'),\n",
       " (b' f', b'r'),\n",
       " (b'u', b'm'),\n",
       " (b\"'\", b't'),\n",
       " (b' the', b'm'),\n",
       " (b' bo', b'y'),\n",
       " (b' sa', b'd'),\n",
       " (b'u', b'l'),\n",
       " (b'a', b'x'),\n",
       " (b' tre', b'e'),\n",
       " (b'ot', b'her'),\n",
       " (b'ou', b'g')]"
      ]
     },
     "execution_count": 8,
     "metadata": {},
     "output_type": "execute_result"
    }
   ],
   "source": [
    "tokenizer.merges"
   ]
  },
  {
   "cell_type": "code",
   "execution_count": 7,
   "id": "3d7989e6",
   "metadata": {},
   "outputs": [
    {
     "data": {
      "text/plain": [
       "b'<|endoftext|>\\n\\nOnce upon a time there was a little girl named Lucy. She loved to go to the store to buy sweets with her mom and dad. On this special day, Lucy entered the store with her mom and dad, feeling so excited.\\nAs they were looking around, Lucy noticed a little girl playing with a toy in the corner of the store. She gasped in excitement and ran towards her. Lucy asked if she could play too but the little girl said no. She was rather grumpy and was not in the mood to play.\\nLucy\\'s mom saw what was going on and told Lucy, \"Let\\'s try to be peaceful and kind to her. Have patience and understanding. Together, you can both be happy!\"\\nSo, Lucy smiled at the girl and said, \"Can we play together?\" The little girl softened and smiled back. She agreed to share the toy and even let Lucy have a turn first.\\nLucy and the little girl played together happily. In the end, they both learnt an important lesson: be peaceful, kind, and understanding when faced with a conflict. And that is why Lucy and the little girl became great friends.\\n<|endoftext|>\\nOne mor'"
      ]
     },
     "execution_count": 7,
     "metadata": {},
     "output_type": "execute_result"
    }
   ],
   "source": [
    "data[3035:]"
   ]
  }
 ],
 "metadata": {
  "kernelspec": {
   "display_name": ".venv",
   "language": "python",
   "name": "python3"
  },
  "language_info": {
   "codemirror_mode": {
    "name": "ipython",
    "version": 3
   },
   "file_extension": ".py",
   "mimetype": "text/x-python",
   "name": "python",
   "nbconvert_exporter": "python",
   "pygments_lexer": "ipython3",
   "version": "3.13.3"
  }
 },
 "nbformat": 4,
 "nbformat_minor": 5
}
