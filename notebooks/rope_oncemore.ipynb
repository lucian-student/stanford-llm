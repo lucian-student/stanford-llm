{
 "cells": [
  {
   "cell_type": "code",
   "execution_count": 105,
   "id": "53b55d6f",
   "metadata": {},
   "outputs": [],
   "source": [
    "import torch\n",
    "from einops import einsum,rearrange"
   ]
  },
  {
   "cell_type": "code",
   "execution_count": 106,
   "id": "95b70ad1",
   "metadata": {},
   "outputs": [
    {
     "data": {
      "text/plain": [
       "tensor([1.0000e+00, 7.4989e-01, 5.6234e-01, 4.2170e-01, 3.1623e-01, 2.3714e-01,\n",
       "        1.7783e-01, 1.3335e-01, 1.0000e-01, 7.4989e-02, 5.6234e-02, 4.2170e-02,\n",
       "        3.1623e-02, 2.3714e-02, 1.7783e-02, 1.3335e-02, 1.0000e-02, 7.4989e-03,\n",
       "        5.6234e-03, 4.2170e-03, 3.1623e-03, 2.3714e-03, 1.7783e-03, 1.3335e-03,\n",
       "        1.0000e-03, 7.4989e-04, 5.6234e-04, 4.2170e-04, 3.1623e-04, 2.3714e-04,\n",
       "        1.7783e-04, 1.3335e-04])"
      ]
     },
     "execution_count": 106,
     "metadata": {},
     "output_type": "execute_result"
    }
   ],
   "source": [
    "theta = 10000\n",
    "d_k = 64\n",
    "k = torch.arange(d_k // 2,dtype=torch.float32)\n",
    "theta  = 1.0 / (theta ** (2 * k / d_k))\n",
    "theta"
   ]
  },
  {
   "cell_type": "code",
   "execution_count": 107,
   "id": "29d49722",
   "metadata": {},
   "outputs": [],
   "source": [
    "torch.manual_seed(4)\n",
    "x = torch.randn(4, 12, 64)\n",
    "positions = torch.arange(12,dtype=torch.float)"
   ]
  },
  {
   "cell_type": "code",
   "execution_count": 108,
   "id": "9d53ebf1",
   "metadata": {},
   "outputs": [
    {
     "data": {
      "text/plain": [
       "tensor([1.0000e+00, 7.4989e-01, 5.6234e-01, 4.2170e-01, 3.1623e-01, 2.3714e-01,\n",
       "        1.7783e-01, 1.3335e-01, 1.0000e-01, 7.4989e-02, 5.6234e-02, 4.2170e-02,\n",
       "        3.1623e-02, 2.3714e-02, 1.7783e-02, 1.3335e-02, 1.0000e-02, 7.4989e-03,\n",
       "        5.6234e-03, 4.2170e-03, 3.1623e-03, 2.3714e-03, 1.7783e-03, 1.3335e-03,\n",
       "        1.0000e-03, 7.4989e-04, 5.6234e-04, 4.2170e-04, 3.1623e-04, 2.3714e-04,\n",
       "        1.7783e-04, 1.3335e-04])"
      ]
     },
     "execution_count": 108,
     "metadata": {},
     "output_type": "execute_result"
    }
   ],
   "source": [
    "position_preped = rearrange(positions, \" ... -> ... 1\")\n",
    "angle = position_preped * theta\n",
    "angle[1]"
   ]
  },
  {
   "cell_type": "code",
   "execution_count": 109,
   "id": "5a63fe4d",
   "metadata": {},
   "outputs": [
    {
     "data": {
      "text/plain": [
       "(tensor([0.5403]), tensor([0.8415]))"
      ]
     },
     "execution_count": 109,
     "metadata": {},
     "output_type": "execute_result"
    }
   ],
   "source": [
    "R_cos = torch.cos(angle).unsqueeze(-1)\n",
    "R_sin = torch.sin(angle).unsqueeze(-1)\n",
    "R_cos[1][0],R_sin[1][0]"
   ]
  },
  {
   "cell_type": "code",
   "execution_count": 110,
   "id": "a3019eb5",
   "metadata": {},
   "outputs": [
    {
     "data": {
      "text/plain": [
       "tensor([ 0.5403, -0.8415,  0.8415,  0.5403])"
      ]
     },
     "execution_count": 110,
     "metadata": {},
     "output_type": "execute_result"
    }
   ],
   "source": [
    "R = torch.stack([R_cos, -R_sin, R_sin, R_cos], dim=-1).squeeze(-2)\n",
    "R[1][0]"
   ]
  },
  {
   "cell_type": "code",
   "execution_count": 111,
   "id": "644983a9",
   "metadata": {},
   "outputs": [
    {
     "data": {
      "text/plain": [
       "tensor([[ 0.5403,  0.8415],\n",
       "        [-0.8415,  0.5403]])"
      ]
     },
     "execution_count": 111,
     "metadata": {},
     "output_type": "execute_result"
    }
   ],
   "source": [
    "R_final = rearrange(\n",
    "    R,\n",
    "    \" ... seq dk_2 (x1 x2) -> ... seq dk_2 x2 x1\",\n",
    "    x1=2,\n",
    "    x2=2,\n",
    ")\n",
    "R_final[1][0]"
   ]
  },
  {
   "cell_type": "code",
   "execution_count": 112,
   "id": "ac74640e",
   "metadata": {},
   "outputs": [
    {
     "data": {
      "text/plain": [
       "torch.Size([4, 12, 32, 1, 2])"
      ]
     },
     "execution_count": 112,
     "metadata": {},
     "output_type": "execute_result"
    }
   ],
   "source": [
    "X_preped = rearrange(x, \"... seq ( dk_2 y ) -> ... seq dk_2 1 y \", y=2)\n",
    "X_preped.shape"
   ]
  },
  {
   "cell_type": "code",
   "execution_count": 113,
   "id": "bdb5026d",
   "metadata": {},
   "outputs": [],
   "source": [
    "preres = einsum(\n",
    "            X_preped,\n",
    "            R_final,\n",
    "            \" ... seq dk_2 x1 y, ... seq dk_2 y x -> ... seq dk_2 x1 x\",\n",
    "        )\n",
    "res = rearrange(preres, \"... seq dk_2 x y -> ... seq (dk_2 x y)\")"
   ]
  },
  {
   "cell_type": "code",
   "execution_count": 114,
   "id": "72cf5d09",
   "metadata": {},
   "outputs": [
    {
     "data": {
      "text/plain": [
       "tensor([ 0.1500, -0.0721, -0.1978,  0.5219,  0.3934, -0.1684, -0.8209, -0.0424,\n",
       "         0.6446,  2.1171,  1.5502,  0.1070, -0.9238, -1.4239,  1.0173,  0.3385,\n",
       "         0.5653,  2.5857, -0.9497, -0.0881,  0.2142,  0.6893,  1.7383, -0.3313,\n",
       "         1.0766,  0.4893, -1.2753, -0.4801, -1.0555, -1.0249, -0.6775,  1.5145,\n",
       "         0.0504, -1.3858,  2.8358, -0.1538, -0.6845, -1.6847, -0.5692, -1.0971,\n",
       "         0.1646, -0.8997,  0.1821,  0.5116,  0.2960,  1.5625, -2.0234, -0.0756,\n",
       "        -0.3919,  0.1265, -0.8289, -1.6487,  0.2351, -0.5801, -1.5086,  0.1102,\n",
       "        -0.2663,  1.0876, -0.9444, -0.7945, -1.2031,  0.6716,  0.3124, -1.6153])"
      ]
     },
     "execution_count": 114,
     "metadata": {},
     "output_type": "execute_result"
    }
   ],
   "source": [
    "res[0,1]"
   ]
  }
 ],
 "metadata": {
  "kernelspec": {
   "display_name": ".venv",
   "language": "python",
   "name": "python3"
  },
  "language_info": {
   "codemirror_mode": {
    "name": "ipython",
    "version": 3
   },
   "file_extension": ".py",
   "mimetype": "text/x-python",
   "name": "python",
   "nbconvert_exporter": "python",
   "pygments_lexer": "ipython3",
   "version": "3.13.3"
  }
 },
 "nbformat": 4,
 "nbformat_minor": 5
}
