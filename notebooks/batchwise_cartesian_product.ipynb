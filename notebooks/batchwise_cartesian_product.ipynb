{
 "cells": [
  {
   "cell_type": "code",
   "execution_count": 38,
   "id": "580c3034",
   "metadata": {},
   "outputs": [],
   "source": [
    "import torch\n",
    "from einops import rearrange,einsum\n",
    "from jaxtyping import Int"
   ]
  },
  {
   "cell_type": "code",
   "execution_count": 39,
   "id": "3d0895e4",
   "metadata": {},
   "outputs": [
    {
     "data": {
      "text/plain": [
       "tensor([[ 0,  1,  2,  3,  4],\n",
       "        [ 5,  6,  7,  8,  9],\n",
       "        [10, 11, 12, 13, 14],\n",
       "        [15, 16, 17, 18, 19],\n",
       "        [20, 21, 22, 23, 24]])"
      ]
     },
     "execution_count": 39,
     "metadata": {},
     "output_type": "execute_result"
    }
   ],
   "source": [
    "positions = rearrange(torch.arange(25),\"(batch seq) -> batch seq\",batch=5)\n",
    "positions"
   ]
  },
  {
   "cell_type": "code",
   "execution_count": 40,
   "id": "56806edc",
   "metadata": {},
   "outputs": [
    {
     "data": {
      "text/plain": [
       "tensor([[ 0,  1,  2,  3,  4,  0,  1,  2,  3,  4,  0,  1,  2,  3,  4,  0,  1,  2,\n",
       "          3,  4,  0,  1,  2,  3,  4],\n",
       "        [ 5,  6,  7,  8,  9,  5,  6,  7,  8,  9,  5,  6,  7,  8,  9,  5,  6,  7,\n",
       "          8,  9,  5,  6,  7,  8,  9],\n",
       "        [10, 11, 12, 13, 14, 10, 11, 12, 13, 14, 10, 11, 12, 13, 14, 10, 11, 12,\n",
       "         13, 14, 10, 11, 12, 13, 14],\n",
       "        [15, 16, 17, 18, 19, 15, 16, 17, 18, 19, 15, 16, 17, 18, 19, 15, 16, 17,\n",
       "         18, 19, 15, 16, 17, 18, 19],\n",
       "        [20, 21, 22, 23, 24, 20, 21, 22, 23, 24, 20, 21, 22, 23, 24, 20, 21, 22,\n",
       "         23, 24, 20, 21, 22, 23, 24]])"
      ]
     },
     "execution_count": 40,
     "metadata": {},
     "output_type": "execute_result"
    }
   ],
   "source": [
    "cols = positions.repeat(1,5)\n",
    "cols"
   ]
  },
  {
   "cell_type": "code",
   "execution_count": 41,
   "id": "749f76b7",
   "metadata": {},
   "outputs": [
    {
     "data": {
      "text/plain": [
       "tensor([[ 0,  0,  0,  0,  0,  1,  1,  1,  1,  1,  2,  2,  2,  2,  2,  3,  3,  3,\n",
       "          3,  3,  4,  4,  4,  4,  4],\n",
       "        [ 5,  5,  5,  5,  5,  6,  6,  6,  6,  6,  7,  7,  7,  7,  7,  8,  8,  8,\n",
       "          8,  8,  9,  9,  9,  9,  9],\n",
       "        [10, 10, 10, 10, 10, 11, 11, 11, 11, 11, 12, 12, 12, 12, 12, 13, 13, 13,\n",
       "         13, 13, 14, 14, 14, 14, 14],\n",
       "        [15, 15, 15, 15, 15, 16, 16, 16, 16, 16, 17, 17, 17, 17, 17, 18, 18, 18,\n",
       "         18, 18, 19, 19, 19, 19, 19],\n",
       "        [20, 20, 20, 20, 20, 21, 21, 21, 21, 21, 22, 22, 22, 22, 22, 23, 23, 23,\n",
       "         23, 23, 24, 24, 24, 24, 24]])"
      ]
     },
     "execution_count": 41,
     "metadata": {},
     "output_type": "execute_result"
    }
   ],
   "source": [
    "rows = rearrange(positions.unsqueeze(-1).repeat(1,1,5),\"... seq1 seq2 -> ... (seq1 seq2)\",seq2=5)\n",
    "rows"
   ]
  },
  {
   "cell_type": "code",
   "execution_count": 42,
   "id": "5635fb9f",
   "metadata": {},
   "outputs": [
    {
     "data": {
      "text/plain": [
       "torch.Size([5, 25, 2])"
      ]
     },
     "execution_count": 42,
     "metadata": {},
     "output_type": "execute_result"
    }
   ],
   "source": [
    "combined =  torch.stack([rows.unsqueeze(-1), cols.unsqueeze(-1)],dim=-1).squeeze(-2)\n",
    "combined.shape"
   ]
  },
  {
   "cell_type": "code",
   "execution_count": 43,
   "id": "703d9aca",
   "metadata": {},
   "outputs": [
    {
     "data": {
      "text/plain": [
       "tensor([[[ True, False, False, False, False],\n",
       "         [ True,  True, False, False, False],\n",
       "         [ True,  True,  True, False, False],\n",
       "         [ True,  True,  True,  True, False],\n",
       "         [ True,  True,  True,  True,  True]],\n",
       "\n",
       "        [[ True, False, False, False, False],\n",
       "         [ True,  True, False, False, False],\n",
       "         [ True,  True,  True, False, False],\n",
       "         [ True,  True,  True,  True, False],\n",
       "         [ True,  True,  True,  True,  True]],\n",
       "\n",
       "        [[ True, False, False, False, False],\n",
       "         [ True,  True, False, False, False],\n",
       "         [ True,  True,  True, False, False],\n",
       "         [ True,  True,  True,  True, False],\n",
       "         [ True,  True,  True,  True,  True]],\n",
       "\n",
       "        [[ True, False, False, False, False],\n",
       "         [ True,  True, False, False, False],\n",
       "         [ True,  True,  True, False, False],\n",
       "         [ True,  True,  True,  True, False],\n",
       "         [ True,  True,  True,  True,  True]],\n",
       "\n",
       "        [[ True, False, False, False, False],\n",
       "         [ True,  True, False, False, False],\n",
       "         [ True,  True,  True, False, False],\n",
       "         [ True,  True,  True,  True, False],\n",
       "         [ True,  True,  True,  True,  True]]])"
      ]
     },
     "execution_count": 43,
     "metadata": {},
     "output_type": "execute_result"
    }
   ],
   "source": [
    "mask = rearrange(combined,\"... (seq1 seq2) coords -> ... seq1 seq2 coords\",seq2=5)\n",
    "mask = mask[...,0] >= mask[...,1]\n",
    "mask"
   ]
  },
  {
   "cell_type": "code",
   "execution_count": null,
   "id": "83780f88",
   "metadata": {},
   "outputs": [],
   "source": [
    "def batch_cartesian_prod(\n",
    "    a: Int[torch.Tensor, \"... seq\"], b: Int[torch.Tensor, \"... seq\"]\n",
    "):\n",
    "    seq = a.shape[-1]\n",
    "    cols = b.repeat(*[1 for _ in range(len(b.shape) - 1)], seq)\n",
    "    rows = a.unsqueeze(-1)\n",
    "    rows = rearrange(\n",
    "        rows.repeat(*[1 for _ in range(len(rows.shape) - 1)], seq),\n",
    "        \"... seq1 seq2 -> ... (seq1 seq2)\",\n",
    "        seq2=seq,\n",
    "    )\n",
    "    combined = torch.stack([rows.unsqueeze(-1), cols.unsqueeze(-1)], dim=-1).squeeze(-2)\n",
    "    mask = rearrange(combined, \"... (seq1 seq2) coords -> ... seq1 seq2 coords\", seq2=seq)\n",
    "    mask = mask[..., 0] >= mask[..., 1]\n",
    "    return mask"
   ]
  },
  {
   "cell_type": "code",
   "execution_count": 45,
   "id": "11a44895",
   "metadata": {},
   "outputs": [
    {
     "data": {
      "text/plain": [
       "tensor([[[ True, False, False, False, False],\n",
       "         [ True,  True, False, False, False],\n",
       "         [ True,  True,  True, False, False],\n",
       "         [ True,  True,  True,  True, False],\n",
       "         [ True,  True,  True,  True,  True]],\n",
       "\n",
       "        [[ True, False, False, False, False],\n",
       "         [ True,  True, False, False, False],\n",
       "         [ True,  True,  True, False, False],\n",
       "         [ True,  True,  True,  True, False],\n",
       "         [ True,  True,  True,  True,  True]],\n",
       "\n",
       "        [[ True, False, False, False, False],\n",
       "         [ True,  True, False, False, False],\n",
       "         [ True,  True,  True, False, False],\n",
       "         [ True,  True,  True,  True, False],\n",
       "         [ True,  True,  True,  True,  True]],\n",
       "\n",
       "        [[ True, False, False, False, False],\n",
       "         [ True,  True, False, False, False],\n",
       "         [ True,  True,  True, False, False],\n",
       "         [ True,  True,  True,  True, False],\n",
       "         [ True,  True,  True,  True,  True]],\n",
       "\n",
       "        [[ True, False, False, False, False],\n",
       "         [ True,  True, False, False, False],\n",
       "         [ True,  True,  True, False, False],\n",
       "         [ True,  True,  True,  True, False],\n",
       "         [ True,  True,  True,  True,  True]]])"
      ]
     },
     "execution_count": 45,
     "metadata": {},
     "output_type": "execute_result"
    }
   ],
   "source": [
    "batch_cartesian_prod(positions,positions)"
   ]
  }
 ],
 "metadata": {
  "kernelspec": {
   "display_name": ".venv",
   "language": "python",
   "name": "python3"
  },
  "language_info": {
   "codemirror_mode": {
    "name": "ipython",
    "version": 3
   },
   "file_extension": ".py",
   "mimetype": "text/x-python",
   "name": "python",
   "nbconvert_exporter": "python",
   "pygments_lexer": "ipython3",
   "version": "3.13.3"
  }
 },
 "nbformat": 4,
 "nbformat_minor": 5
}
