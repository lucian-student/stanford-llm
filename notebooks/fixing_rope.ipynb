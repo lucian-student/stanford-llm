{
 "cells": [
  {
   "cell_type": "code",
   "execution_count": 2,
   "id": "343f3873",
   "metadata": {},
   "outputs": [],
   "source": [
    "import torch\n",
    "import math\n",
    "from einops import rearrange,einsum"
   ]
  },
  {
   "cell_type": "code",
   "execution_count": 3,
   "id": "7a390215",
   "metadata": {},
   "outputs": [],
   "source": [
    "torch.manual_seed(4)\n",
    "X = torch.randn(4, 12, 64)\n",
    "positions = torch.arange(12,dtype=torch.float)"
   ]
  },
  {
   "cell_type": "code",
   "execution_count": 4,
   "id": "eea5ea9d",
   "metadata": {},
   "outputs": [
    {
     "data": {
      "text/plain": [
       "tensor([-0.9414,  1.2632, -0.1838,  0.1505,  0.1075, -0.2780, -2.6021,  0.6245,\n",
       "        -0.8684, -0.2051,  0.3976,  0.6699, -0.0537,  0.0467, -1.7671, -2.1205,\n",
       "         1.5191, -0.6682,  0.0031, -0.1535,  1.1396, -0.2302,  1.1877,  0.7677,\n",
       "        -0.7588, -0.1853, -0.8558, -0.2346, -0.4215,  0.8488, -0.6776, -0.9445,\n",
       "        -0.4815,  1.2434,  2.3693,  0.2829, -0.2345,  1.6892,  0.2716, -0.1365,\n",
       "        -0.6948, -1.3186, -0.9694,  0.6403,  0.8201, -0.9151, -2.1437,  1.4072,\n",
       "        -0.0263,  2.7204, -0.5955,  0.9871,  1.0861,  0.0610,  0.0417,  0.6783,\n",
       "        -0.8952, -1.0143, -0.2429, -1.5727,  1.3940, -0.1941,  0.0048, -1.3165])"
      ]
     },
     "execution_count": 4,
     "metadata": {},
     "output_type": "execute_result"
    }
   ],
   "source": [
    "X_first = X[0,0]\n",
    "X_first"
   ]
  },
  {
   "cell_type": "code",
   "execution_count": 5,
   "id": "3892241e",
   "metadata": {},
   "outputs": [
    {
     "data": {
      "text/plain": [
       "(tensor([ 0.0204, -0.1652,  0.2109,  0.5167,  0.2430, -0.3522, -0.7664,  0.2973,\n",
       "          1.2710,  1.8117,  1.5320, -0.2602, -1.1611, -1.2380,  1.0533,  0.2002,\n",
       "          0.8206,  2.5164, -0.9537, -0.0167,  0.2526,  0.6762,  1.7228, -0.4043,\n",
       "          1.0915,  0.4550, -1.2863, -0.4498, -1.0736, -1.0060, -0.6573,  1.5234,\n",
       "          0.0366, -1.3862,  2.8345, -0.1750, -0.6939, -1.6809, -0.5738, -1.0947,\n",
       "          0.1618, -0.9002,  0.1833,  0.5112,  0.2988,  1.5620, -2.0235, -0.0729,\n",
       "         -0.3918,  0.1269, -0.8301, -1.6481,  0.2348, -0.5803, -1.5085,  0.1108,\n",
       "         -0.2659,  1.0877, -0.9446, -0.7943, -1.2030,  0.6718,  0.3122, -1.6153]),\n",
       " torch.Size([64]))"
      ]
     },
     "execution_count": 5,
     "metadata": {},
     "output_type": "execute_result"
    }
   ],
   "source": [
    "X_second = X[0,1]\n",
    "X_second,X_second.shape"
   ]
  },
  {
   "cell_type": "code",
   "execution_count": 6,
   "id": "6b564607",
   "metadata": {},
   "outputs": [
    {
     "data": {
      "text/plain": [
       "torch.Size([32])"
      ]
     },
     "execution_count": 6,
     "metadata": {},
     "output_type": "execute_result"
    }
   ],
   "source": [
    "d_k = 64\n",
    "theta = 10000.0\n",
    "k = torch.arange(0, d_k // 2)\n",
    "R = 1.0 / (theta ** (2 * k / d_k))\n",
    "R.shape"
   ]
  },
  {
   "cell_type": "code",
   "execution_count": 7,
   "id": "bf624a9d",
   "metadata": {},
   "outputs": [
    {
     "data": {
      "text/plain": [
       "(tensor(1.), tensor(0.5403), tensor(0.8415))"
      ]
     },
     "execution_count": 7,
     "metadata": {},
     "output_type": "execute_result"
    }
   ],
   "source": [
    "angles = 1 *  R  # position is a scalar or tensor\n",
    "R_cos = torch.cos(angles)\n",
    "R_sin = torch.sin(angles)\n",
    "angles[0],R_cos[0],R_sin[0]"
   ]
  },
  {
   "cell_type": "code",
   "execution_count": 8,
   "id": "618c0eb6",
   "metadata": {},
   "outputs": [],
   "source": [
    "rotation_matrix = torch.eye(d_k)\n",
    "for i in range(d_k // 2):\n",
    "    cos_val = R_cos[i]\n",
    "    sin_val = R_sin[i]\n",
    "    rotation_matrix[2*i, 2*i] = cos_val\n",
    "    rotation_matrix[2*i, 2*i+1] = -sin_val\n",
    "    rotation_matrix[2*i+1, 2*i] = sin_val\n",
    "    rotation_matrix[2*i+1, 2*i+1] = cos_val"
   ]
  },
  {
   "cell_type": "code",
   "execution_count": 12,
   "id": "7b108d4f",
   "metadata": {},
   "outputs": [
    {
     "data": {
      "text/plain": [
       "tensor([[ 0.5403, -0.8415,  0.0000,  0.0000,  0.0000,  0.0000,  0.0000,  0.0000,\n",
       "          0.0000,  0.0000,  0.0000,  0.0000,  0.0000,  0.0000,  0.0000,  0.0000,\n",
       "          0.0000,  0.0000,  0.0000,  0.0000,  0.0000,  0.0000,  0.0000,  0.0000,\n",
       "          0.0000,  0.0000,  0.0000,  0.0000,  0.0000,  0.0000,  0.0000,  0.0000,\n",
       "          0.0000,  0.0000,  0.0000,  0.0000,  0.0000,  0.0000,  0.0000,  0.0000,\n",
       "          0.0000,  0.0000,  0.0000,  0.0000,  0.0000,  0.0000,  0.0000,  0.0000,\n",
       "          0.0000,  0.0000,  0.0000,  0.0000,  0.0000,  0.0000,  0.0000,  0.0000,\n",
       "          0.0000,  0.0000,  0.0000,  0.0000,  0.0000,  0.0000,  0.0000,  0.0000],\n",
       "        [ 0.8415,  0.5403,  0.0000,  0.0000,  0.0000,  0.0000,  0.0000,  0.0000,\n",
       "          0.0000,  0.0000,  0.0000,  0.0000,  0.0000,  0.0000,  0.0000,  0.0000,\n",
       "          0.0000,  0.0000,  0.0000,  0.0000,  0.0000,  0.0000,  0.0000,  0.0000,\n",
       "          0.0000,  0.0000,  0.0000,  0.0000,  0.0000,  0.0000,  0.0000,  0.0000,\n",
       "          0.0000,  0.0000,  0.0000,  0.0000,  0.0000,  0.0000,  0.0000,  0.0000,\n",
       "          0.0000,  0.0000,  0.0000,  0.0000,  0.0000,  0.0000,  0.0000,  0.0000,\n",
       "          0.0000,  0.0000,  0.0000,  0.0000,  0.0000,  0.0000,  0.0000,  0.0000,\n",
       "          0.0000,  0.0000,  0.0000,  0.0000,  0.0000,  0.0000,  0.0000,  0.0000]])"
      ]
     },
     "execution_count": 12,
     "metadata": {},
     "output_type": "execute_result"
    }
   ],
   "source": [
    "rotation_matrix[:2,:]"
   ]
  },
  {
   "cell_type": "code",
   "execution_count": 10,
   "id": "9468f651",
   "metadata": {},
   "outputs": [
    {
     "data": {
      "text/plain": [
       "(0.1275, 0.150027)"
      ]
     },
     "execution_count": 10,
     "metadata": {},
     "output_type": "execute_result"
    }
   ],
   "source": [
    "0.1275,0.150027"
   ]
  },
  {
   "cell_type": "code",
   "execution_count": 11,
   "id": "348d4deb",
   "metadata": {},
   "outputs": [
    {
     "data": {
      "text/plain": [
       "tensor([ 0.1500, -0.0721, -0.1978,  0.5219,  0.3934, -0.1684, -0.8209, -0.0424,\n",
       "         0.6446,  2.1171,  1.5502,  0.1070, -0.9238, -1.4239,  1.0173,  0.3385,\n",
       "         0.5653,  2.5857, -0.9497, -0.0881,  0.2142,  0.6893,  1.7383, -0.3313,\n",
       "         1.0766,  0.4893, -1.2753, -0.4801, -1.0555, -1.0249, -0.6775,  1.5145,\n",
       "         0.0504, -1.3858,  2.8358, -0.1538, -0.6845, -1.6847, -0.5692, -1.0971,\n",
       "         0.1646, -0.8997,  0.1821,  0.5116,  0.2960,  1.5625, -2.0234, -0.0756,\n",
       "        -0.3919,  0.1265, -0.8289, -1.6487,  0.2351, -0.5801, -1.5086,  0.1102,\n",
       "        -0.2663,  1.0876, -0.9444, -0.7945, -1.2031,  0.6716,  0.3124, -1.6153])"
      ]
     },
     "execution_count": 11,
     "metadata": {},
     "output_type": "execute_result"
    }
   ],
   "source": [
    "X_second @ rotation_matrix.T"
   ]
  }
 ],
 "metadata": {
  "kernelspec": {
   "display_name": ".venv",
   "language": "python",
   "name": "python3"
  },
  "language_info": {
   "codemirror_mode": {
    "name": "ipython",
    "version": 3
   },
   "file_extension": ".py",
   "mimetype": "text/x-python",
   "name": "python",
   "nbconvert_exporter": "python",
   "pygments_lexer": "ipython3",
   "version": "3.13.3"
  }
 },
 "nbformat": 4,
 "nbformat_minor": 5
}
